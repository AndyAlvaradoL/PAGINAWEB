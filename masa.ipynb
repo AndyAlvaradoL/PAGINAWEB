{
  "nbformat": 4,
  "nbformat_minor": 0,
  "metadata": {
    "colab": {
      "provenance": [],
      "authorship_tag": "ABX9TyOvMjPvKHh0UIViki7HThv2",
      "include_colab_link": true
    },
    "kernelspec": {
      "name": "python3",
      "display_name": "Python 3"
    },
    "language_info": {
      "name": "python"
    }
  },
  "cells": [
    {
      "cell_type": "markdown",
      "metadata": {
        "id": "view-in-github",
        "colab_type": "text"
      },
      "source": [
        "<a href=\"https://colab.research.google.com/github/AndyAlvaradoL/PAGINAWEB/blob/main/masa.ipynb\" target=\"_parent\"><img src=\"https://colab.research.google.com/assets/colab-badge.svg\" alt=\"Open In Colab\"/></a>"
      ]
    },
    {
      "cell_type": "markdown",
      "source": [
        "# CALCULO DE LA MASA CORPORAL"
      ],
      "metadata": {
        "id": "mqAumBUiLEh5"
      }
    },
    {
      "cell_type": "code",
      "execution_count": 5,
      "metadata": {
        "colab": {
          "base_uri": "https://localhost:8080/"
        },
        "id": "-FVDcvH_Jxy5",
        "outputId": "864ebe0f-7010-4042-e34e-d0c283b13054"
      },
      "outputs": [
        {
          "output_type": "stream",
          "name": "stdout",
          "text": [
            "43.827611395178955\n"
          ]
        }
      ],
      "source": [
        "#@title Cálculo del IMC { run: \"auto\"}\n",
        "estatura = 1.85  #@param { Type: \"number\"}\n",
        "peso  = 150 #@param {type: \"number\")\n",
        "imc=peso/estatura**2\n",
        "print (imc)"
      ]
    }
  ]
}